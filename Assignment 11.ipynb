{
 "cells": [
  {
   "cell_type": "markdown",
   "id": "93f840f1-df67-45f2-90da-edb2aa2b6b1a",
   "metadata": {},
   "source": [
    "## Q.1 What is an exception in python? Write the difference between exceptions and syntax errors. "
   ]
  },
  {
   "cell_type": "markdown",
   "id": "0a72ff70-aa63-4e80-89af-6ba53f1090b0",
   "metadata": {},
   "source": [
    "## An exception is an event, which occurs during the execution of a program that disrupts the normal flow of the program's instructions"
   ]
  },
  {
   "cell_type": "markdown",
   "id": "92d7c1d7-a51b-49f1-a197-2c5cd2168516",
   "metadata": {},
   "source": [
    "## The major difference between Exception and Syntax Errors is that in case of syntax error, the code will not run and give the error. While in case of Exception the code will execute before the line of exception and then give the error."
   ]
  },
  {
   "cell_type": "markdown",
   "id": "e916c466-8753-41fd-a48e-786432cc1b2a",
   "metadata": {},
   "source": [
    "## Q.2 What happens when an exception is not handled? Explain with an example."
   ]
  },
  {
   "cell_type": "markdown",
   "id": "b854d326-b57a-4c96-a7cc-b91b57797abb",
   "metadata": {},
   "source": [
    "## If exception not handled than the program will run upto before the line of exception and then give error on exception."
   ]
  },
  {
   "cell_type": "code",
   "execution_count": 1,
   "id": "a7ab7528-f8d0-4cde-97d8-70efa18b6ae0",
   "metadata": {},
   "outputs": [
    {
     "name": "stdout",
     "output_type": "stream",
     "text": [
      "Before Exception\n"
     ]
    },
    {
     "ename": "ZeroDivisionError",
     "evalue": "division by zero",
     "output_type": "error",
     "traceback": [
      "\u001b[0;31m---------------------------------------------------------------------------\u001b[0m",
      "\u001b[0;31mZeroDivisionError\u001b[0m                         Traceback (most recent call last)",
      "Cell \u001b[0;32mIn[1], line 3\u001b[0m\n\u001b[1;32m      1\u001b[0m \u001b[38;5;28mprint\u001b[39m(\u001b[38;5;124m\"\u001b[39m\u001b[38;5;124mBefore Exception\u001b[39m\u001b[38;5;124m\"\u001b[39m)\n\u001b[1;32m      2\u001b[0m a\u001b[38;5;241m=\u001b[39m\u001b[38;5;241m23\u001b[39m\n\u001b[0;32m----> 3\u001b[0m \u001b[43ma\u001b[49m\u001b[38;5;241;43m/\u001b[39;49m\u001b[38;5;241;43m0\u001b[39;49m\n\u001b[1;32m      4\u001b[0m \u001b[38;5;28mprint\u001b[39m(\u001b[38;5;124m\"\u001b[39m\u001b[38;5;124mAfter Exception\u001b[39m\u001b[38;5;124m\"\u001b[39m)\n",
      "\u001b[0;31mZeroDivisionError\u001b[0m: division by zero"
     ]
    }
   ],
   "source": [
    "print(\"Before Exception\")\n",
    "a=23\n",
    "a/0\n",
    "print(\"After Exception\")"
   ]
  },
  {
   "cell_type": "markdown",
   "id": "608e4aae-31ff-4ed1-9cc8-32f55e8b10fe",
   "metadata": {},
   "source": [
    "## In this example first print statement runs but the second print didn't run because there's is an exception between them"
   ]
  },
  {
   "cell_type": "markdown",
   "id": "45860004-44ac-45a9-942d-5f0f58e2b4eb",
   "metadata": {},
   "source": [
    "##  Q.3 Which python statements are used to catch and handle exceptions? Explain with an example."
   ]
  },
  {
   "cell_type": "markdown",
   "id": "5baca3c3-90e7-4cf9-b46c-45c44135e4d9",
   "metadata": {},
   "source": [
    "## Four python statements are used to catch and handle exceptions are \"try\" ,\"except\", \"else' and \"finally\"."
   ]
  },
  {
   "cell_type": "code",
   "execution_count": 3,
   "id": "ca730fea-d6f7-4436-8b58-0e181fbb2dd0",
   "metadata": {},
   "outputs": [
    {
     "name": "stdout",
     "output_type": "stream",
     "text": [
      "This will only execute if there is some issue in try statement\n",
      "This will always run\n"
     ]
    }
   ],
   "source": [
    "try:\n",
    "    f=open(\"print2.text\",\"r\")\n",
    "except Exception as e:\n",
    "    print(\"This will only execute if there is some issue in try statement\")\n",
    "else :\n",
    "    print(\"This will only execute if try statement ran without any problem\")\n",
    "finally:\n",
    "    print(\"This will always run\")\n",
    "    "
   ]
  },
  {
   "cell_type": "markdown",
   "id": "325b862d-4a20-41ae-938c-0c8f743c3e6c",
   "metadata": {},
   "source": [
    "## Q.4 Explain with an example:\n",
    "   ## a. try and else\n",
    "   ## b. finally\n",
    "   ## c. raise"
   ]
  },
  {
   "cell_type": "code",
   "execution_count": 6,
   "id": "fc081268-9d27-4ac7-b8ae-b5c8a5d4e2e9",
   "metadata": {},
   "outputs": [
    {
     "name": "stdout",
     "output_type": "stream",
     "text": [
      "There is an exception in try statement\n"
     ]
    }
   ],
   "source": [
    "## a\n",
    "try:\n",
    "    a=23\n",
    "    a/0\n",
    "except Exception as e:\n",
    "    print(\"There is an exception in try statement\")\n",
    "else:\n",
    "    print(\"There is not any exception in try statement\")"
   ]
  },
  {
   "cell_type": "code",
   "execution_count": 7,
   "id": "f921ebee-8a36-4155-83a8-ddbbf5b7895e",
   "metadata": {},
   "outputs": [
    {
     "name": "stdout",
     "output_type": "stream",
     "text": [
      "This will only execute if there is some issue in try statement\n",
      "This will always run\n"
     ]
    }
   ],
   "source": [
    "## b\n",
    "try:\n",
    "    f=open(\"print2.text\",\"r\")\n",
    "except Exception as e:\n",
    "    print(\"This will only execute if there is some issue in try statement\")\n",
    "else :\n",
    "    print(\"This will only execute if try statement ran without any problem\")\n",
    "finally:\n",
    "    print(\"This will always run\")\n",
    "    "
   ]
  },
  {
   "cell_type": "code",
   "execution_count": 9,
   "id": "3001ee46-620b-405b-bc9b-2c0e77a90438",
   "metadata": {},
   "outputs": [
    {
     "name": "stdin",
     "output_type": "stream",
     "text": [
      "Enter the order quantity -34\n"
     ]
    },
    {
     "ename": "Exception",
     "evalue": "Sorry, Quantity should be greater than 0",
     "output_type": "error",
     "traceback": [
      "\u001b[0;31m---------------------------------------------------------------------------\u001b[0m",
      "\u001b[0;31mException\u001b[0m                                 Traceback (most recent call last)",
      "Cell \u001b[0;32mIn[9], line 4\u001b[0m\n\u001b[1;32m      2\u001b[0m q\u001b[38;5;241m=\u001b[39m\u001b[38;5;28mint\u001b[39m(\u001b[38;5;28minput\u001b[39m(\u001b[38;5;124m\"\u001b[39m\u001b[38;5;124mEnter the order quantity\u001b[39m\u001b[38;5;124m\"\u001b[39m))\n\u001b[1;32m      3\u001b[0m \u001b[38;5;28;01mif\u001b[39;00m q\u001b[38;5;241m<\u001b[39m\u001b[38;5;241m=\u001b[39m\u001b[38;5;241m0\u001b[39m:\n\u001b[0;32m----> 4\u001b[0m     \u001b[38;5;28;01mraise\u001b[39;00m \u001b[38;5;167;01mException\u001b[39;00m(\u001b[38;5;124m\"\u001b[39m\u001b[38;5;124mSorry, Quantity should be greater than 0\u001b[39m\u001b[38;5;124m\"\u001b[39m)\n",
      "\u001b[0;31mException\u001b[0m: Sorry, Quantity should be greater than 0"
     ]
    }
   ],
   "source": [
    "## c\n",
    "q=int(input(\"Enter the order quantity\"))\n",
    "if q<=0:\n",
    "    raise Exception(\"Sorry, Quantity should be greater than 0\")"
   ]
  },
  {
   "cell_type": "markdown",
   "id": "7071d0d5-ce24-4b5e-a2b5-5d5408da245b",
   "metadata": {},
   "source": [
    "## Q.5 What are custom Exceptions in python? Why do we need custom exceptions? Explain with an example."
   ]
  },
  {
   "cell_type": "markdown",
   "id": "4c0b92c5-e530-4122-b940-fce409912c4f",
   "metadata": {},
   "source": [
    "### Custom Exception are exceptions that are user defined."
   ]
  },
  {
   "cell_type": "markdown",
   "id": "53869fa1-aab5-4027-a9aa-f6d1b6047949",
   "metadata": {},
   "source": [
    "### We need custom exception because some thing could be alright for python but for our code it can give an wrong result from required."
   ]
  },
  {
   "cell_type": "code",
   "execution_count": 13,
   "id": "41ae22ae-7fff-444b-9c94-f8ef18988053",
   "metadata": {},
   "outputs": [
    {
     "name": "stdin",
     "output_type": "stream",
     "text": [
      "Enter your Normal body temperature in fahrenheit 92\n"
     ]
    },
    {
     "name": "stdout",
     "output_type": "stream",
     "text": [
      "Your body temperature is not normal\n"
     ]
    }
   ],
   "source": [
    "class Fahrenheiterror(Exception):\n",
    "    def __init__(self,msg):\n",
    "        self.msg=msg\n",
    "    \n",
    "def validate_fahrenheit(temp_fahrenheit):\n",
    "    min_fahrenheit=95\n",
    "    max_fahrenheit=100\n",
    "    if temp_fahrenheit<min_fahrenheit or temp_fahrenheit>max_fahrenheit:\n",
    "        raise Fahrenheiterror(\"Your body temperature is not normal\")\n",
    "    \n",
    "try:\n",
    "    temp_fahrenheit=int(input(\"Enter your Normal body temperature in fahrenheit\"))\n",
    "    validate_fahrenheit(temp_fahrenheit)\n",
    "    \n",
    "except Fahrenheiterror as e:\n",
    "    print(e)"
   ]
  },
  {
   "cell_type": "markdown",
   "id": "8f541d4c-5383-47f7-9dd4-d53a0f6ca1e8",
   "metadata": {},
   "source": [
    "## Q.6 Create a custom exception class. Use this class to handle an exception."
   ]
  },
  {
   "cell_type": "code",
   "execution_count": 16,
   "id": "4c4ded02-d995-49a7-82bd-7fe241764a99",
   "metadata": {},
   "outputs": [
    {
     "name": "stdin",
     "output_type": "stream",
     "text": [
      "Enter salary amount:  4999\n"
     ]
    },
    {
     "name": "stdout",
     "output_type": "stream",
     "text": [
      "Salary is not in (5000, 15000) range\n"
     ]
    },
    {
     "ename": "SalaryNotInRangeError",
     "evalue": "4999",
     "output_type": "error",
     "traceback": [
      "\u001b[0;31m---------------------------------------------------------------------------\u001b[0m",
      "\u001b[0;31mSalaryNotInRangeError\u001b[0m                     Traceback (most recent call last)",
      "Cell \u001b[0;32mIn[16], line 10\u001b[0m\n\u001b[1;32m      8\u001b[0m salary \u001b[38;5;241m=\u001b[39m \u001b[38;5;28mint\u001b[39m(\u001b[38;5;28minput\u001b[39m(\u001b[38;5;124m\"\u001b[39m\u001b[38;5;124mEnter salary amount: \u001b[39m\u001b[38;5;124m\"\u001b[39m))\n\u001b[1;32m      9\u001b[0m \u001b[38;5;28;01mif\u001b[39;00m \u001b[38;5;129;01mnot\u001b[39;00m \u001b[38;5;241m5000\u001b[39m \u001b[38;5;241m<\u001b[39m salary \u001b[38;5;241m<\u001b[39m \u001b[38;5;241m15000\u001b[39m:\n\u001b[0;32m---> 10\u001b[0m     \u001b[38;5;28;01mraise\u001b[39;00m SalaryNotInRangeError(salary)\n",
      "\u001b[0;31mSalaryNotInRangeError\u001b[0m: 4999"
     ]
    }
   ],
   "source": [
    "class SalaryNotInRangeError(Exception):\n",
    "    def __init__(self, salary, message=\"Salary is not in (5000, 15000) range\"):\n",
    "        self.salary = salary\n",
    "        self.message = message\n",
    "        print(self.message)\n",
    "\n",
    "\n",
    "salary = int(input(\"Enter salary amount: \"))\n",
    "if not 5000 < salary < 15000:\n",
    "    raise SalaryNotInRangeError(salary)"
   ]
  },
  {
   "cell_type": "code",
   "execution_count": null,
   "id": "e963ab1b-df40-48b0-929b-464132d62f37",
   "metadata": {},
   "outputs": [],
   "source": []
  }
 ],
 "metadata": {
  "kernelspec": {
   "display_name": "Python 3 (ipykernel)",
   "language": "python",
   "name": "python3"
  },
  "language_info": {
   "codemirror_mode": {
    "name": "ipython",
    "version": 3
   },
   "file_extension": ".py",
   "mimetype": "text/x-python",
   "name": "python",
   "nbconvert_exporter": "python",
   "pygments_lexer": "ipython3",
   "version": "3.10.8"
  }
 },
 "nbformat": 4,
 "nbformat_minor": 5
}
